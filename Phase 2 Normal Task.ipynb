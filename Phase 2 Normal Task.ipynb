{
 "cells": [
  {
   "cell_type": "code",
   "execution_count": 2,
   "id": "741ecf26",
   "metadata": {},
   "outputs": [],
   "source": [
    "import math\n",
    "import numpy as np\n",
    "import pandas as pd\n",
    "import seaborn as sn\n",
    "import matplotlib.pyplot as plt"
   ]
  },
  {
   "cell_type": "code",
   "execution_count": 28,
   "id": "73e7f457",
   "metadata": {},
   "outputs": [],
   "source": [
    "df1 = pd.read_csv(r\"C:\\Users\\faru0\\Downloads\\archive climate\\daily_data.csv\")\n",
    "df3 = pd.read_csv(r\"C:\\Users\\faru0\\Downloads\\archive climate\\monthly_data.csv\")"
   ]
  },
  {
   "cell_type": "code",
   "execution_count": 21,
   "id": "0ac1038f",
   "metadata": {},
   "outputs": [
    {
     "data": {
      "text/html": [
       "<div>\n",
       "<style scoped>\n",
       "    .dataframe tbody tr th:only-of-type {\n",
       "        vertical-align: middle;\n",
       "    }\n",
       "\n",
       "    .dataframe tbody tr th {\n",
       "        vertical-align: top;\n",
       "    }\n",
       "\n",
       "    .dataframe thead th {\n",
       "        text-align: right;\n",
       "    }\n",
       "</style>\n",
       "<table border=\"1\" class=\"dataframe\">\n",
       "  <thead>\n",
       "    <tr style=\"text-align: right;\">\n",
       "      <th></th>\n",
       "      <th>STATION</th>\n",
       "      <th>DATE</th>\n",
       "      <th>REPORT_TYPE</th>\n",
       "      <th>SOURCE</th>\n",
       "      <th>BackupElements</th>\n",
       "      <th>BackupElevation</th>\n",
       "      <th>BackupEquipment</th>\n",
       "      <th>BackupLatitude</th>\n",
       "      <th>BackupLongitude</th>\n",
       "      <th>BackupName</th>\n",
       "      <th>...</th>\n",
       "      <th>DailyPeakWindDirection</th>\n",
       "      <th>DailyPeakWindSpeed</th>\n",
       "      <th>DailyPrecipitation</th>\n",
       "      <th>DailySnowDepth</th>\n",
       "      <th>DailySnowfall</th>\n",
       "      <th>DailySustainedWindDirection</th>\n",
       "      <th>DailySustainedWindSpeed</th>\n",
       "      <th>Sunrise</th>\n",
       "      <th>Sunset</th>\n",
       "      <th>WindEquipmentChangeDate</th>\n",
       "    </tr>\n",
       "  </thead>\n",
       "  <tbody>\n",
       "    <tr>\n",
       "      <th>0</th>\n",
       "      <td>72518014735</td>\n",
       "      <td>2015-01-01 23:59:00</td>\n",
       "      <td>SOD</td>\n",
       "      <td>6</td>\n",
       "      <td>PRECIP</td>\n",
       "      <td>260</td>\n",
       "      <td>PLASTIC</td>\n",
       "      <td>42.6918</td>\n",
       "      <td>-73.83109</td>\n",
       "      <td>NWS ALBANY, NY</td>\n",
       "      <td>...</td>\n",
       "      <td>190.0</td>\n",
       "      <td>26.0</td>\n",
       "      <td>0.00</td>\n",
       "      <td>0.0</td>\n",
       "      <td>0.0</td>\n",
       "      <td>190.0</td>\n",
       "      <td>20.0</td>\n",
       "      <td>726.0</td>\n",
       "      <td>1632.0</td>\n",
       "      <td>2006-09-08</td>\n",
       "    </tr>\n",
       "    <tr>\n",
       "      <th>1</th>\n",
       "      <td>72518014735</td>\n",
       "      <td>2015-01-02 23:59:00</td>\n",
       "      <td>SOD</td>\n",
       "      <td>6</td>\n",
       "      <td>PRECIP</td>\n",
       "      <td>260</td>\n",
       "      <td>PLASTIC</td>\n",
       "      <td>42.6918</td>\n",
       "      <td>-73.83109</td>\n",
       "      <td>NWS ALBANY, NY</td>\n",
       "      <td>...</td>\n",
       "      <td>250.0</td>\n",
       "      <td>30.0</td>\n",
       "      <td>T</td>\n",
       "      <td>0.0</td>\n",
       "      <td>T</td>\n",
       "      <td>310.0</td>\n",
       "      <td>23.0</td>\n",
       "      <td>726.0</td>\n",
       "      <td>1633.0</td>\n",
       "      <td>2006-09-08</td>\n",
       "    </tr>\n",
       "    <tr>\n",
       "      <th>2</th>\n",
       "      <td>72518014735</td>\n",
       "      <td>2015-01-03 23:59:00</td>\n",
       "      <td>SOD</td>\n",
       "      <td>6</td>\n",
       "      <td>PRECIP</td>\n",
       "      <td>260</td>\n",
       "      <td>PLASTIC</td>\n",
       "      <td>42.6918</td>\n",
       "      <td>-73.83109</td>\n",
       "      <td>NWS ALBANY, NY</td>\n",
       "      <td>...</td>\n",
       "      <td>170.0</td>\n",
       "      <td>21.0</td>\n",
       "      <td>0.57</td>\n",
       "      <td>0.0</td>\n",
       "      <td>1.6</td>\n",
       "      <td>160.0</td>\n",
       "      <td>15.0</td>\n",
       "      <td>726.0</td>\n",
       "      <td>1634.0</td>\n",
       "      <td>2006-09-08</td>\n",
       "    </tr>\n",
       "    <tr>\n",
       "      <th>3</th>\n",
       "      <td>72518014735</td>\n",
       "      <td>2015-01-04 23:59:00</td>\n",
       "      <td>SOD</td>\n",
       "      <td>6</td>\n",
       "      <td>PRECIP</td>\n",
       "      <td>260</td>\n",
       "      <td>PLASTIC</td>\n",
       "      <td>42.6918</td>\n",
       "      <td>-73.83109</td>\n",
       "      <td>NWS ALBANY, NY</td>\n",
       "      <td>...</td>\n",
       "      <td>290.0</td>\n",
       "      <td>33.0</td>\n",
       "      <td>0.22</td>\n",
       "      <td>1.0</td>\n",
       "      <td>0.0</td>\n",
       "      <td>290.0</td>\n",
       "      <td>24.0</td>\n",
       "      <td>726.0</td>\n",
       "      <td>1635.0</td>\n",
       "      <td>2006-09-08</td>\n",
       "    </tr>\n",
       "    <tr>\n",
       "      <th>4</th>\n",
       "      <td>72518014735</td>\n",
       "      <td>2015-01-05 23:59:00</td>\n",
       "      <td>SOD</td>\n",
       "      <td>6</td>\n",
       "      <td>PRECIP</td>\n",
       "      <td>260</td>\n",
       "      <td>PLASTIC</td>\n",
       "      <td>42.6918</td>\n",
       "      <td>-73.83109</td>\n",
       "      <td>NWS ALBANY, NY</td>\n",
       "      <td>...</td>\n",
       "      <td>280.0</td>\n",
       "      <td>42.0</td>\n",
       "      <td>T</td>\n",
       "      <td>0.0</td>\n",
       "      <td>T</td>\n",
       "      <td>290.0</td>\n",
       "      <td>32.0</td>\n",
       "      <td>726.0</td>\n",
       "      <td>1636.0</td>\n",
       "      <td>2006-09-08</td>\n",
       "    </tr>\n",
       "  </tbody>\n",
       "</table>\n",
       "<p>5 rows × 32 columns</p>\n",
       "</div>"
      ],
      "text/plain": [
       "       STATION                DATE REPORT_TYPE  SOURCE BackupElements  \\\n",
       "0  72518014735 2015-01-01 23:59:00       SOD         6         PRECIP   \n",
       "1  72518014735 2015-01-02 23:59:00       SOD         6         PRECIP   \n",
       "2  72518014735 2015-01-03 23:59:00       SOD         6         PRECIP   \n",
       "3  72518014735 2015-01-04 23:59:00       SOD         6         PRECIP   \n",
       "4  72518014735 2015-01-05 23:59:00       SOD         6         PRECIP   \n",
       "\n",
       "   BackupElevation BackupEquipment  BackupLatitude  BackupLongitude  \\\n",
       "0              260         PLASTIC         42.6918        -73.83109   \n",
       "1              260         PLASTIC         42.6918        -73.83109   \n",
       "2              260         PLASTIC         42.6918        -73.83109   \n",
       "3              260         PLASTIC         42.6918        -73.83109   \n",
       "4              260         PLASTIC         42.6918        -73.83109   \n",
       "\n",
       "       BackupName  ...  DailyPeakWindDirection  DailyPeakWindSpeed  \\\n",
       "0  NWS ALBANY, NY  ...                   190.0                26.0   \n",
       "1  NWS ALBANY, NY  ...                   250.0                30.0   \n",
       "2  NWS ALBANY, NY  ...                   170.0                21.0   \n",
       "3  NWS ALBANY, NY  ...                   290.0                33.0   \n",
       "4  NWS ALBANY, NY  ...                   280.0                42.0   \n",
       "\n",
       "   DailyPrecipitation  DailySnowDepth  DailySnowfall  \\\n",
       "0                0.00             0.0            0.0   \n",
       "1                   T             0.0              T   \n",
       "2                0.57             0.0            1.6   \n",
       "3                0.22             1.0            0.0   \n",
       "4                   T             0.0              T   \n",
       "\n",
       "   DailySustainedWindDirection  DailySustainedWindSpeed  Sunrise  Sunset  \\\n",
       "0                        190.0                     20.0    726.0  1632.0   \n",
       "1                        310.0                     23.0    726.0  1633.0   \n",
       "2                        160.0                     15.0    726.0  1634.0   \n",
       "3                        290.0                     24.0    726.0  1635.0   \n",
       "4                        290.0                     32.0    726.0  1636.0   \n",
       "\n",
       "   WindEquipmentChangeDate  \n",
       "0               2006-09-08  \n",
       "1               2006-09-08  \n",
       "2               2006-09-08  \n",
       "3               2006-09-08  \n",
       "4               2006-09-08  \n",
       "\n",
       "[5 rows x 32 columns]"
      ]
     },
     "execution_count": 21,
     "metadata": {},
     "output_type": "execute_result"
    }
   ],
   "source": [
    "df1.head()"
   ]
  },
  {
   "cell_type": "code",
   "execution_count": 9,
   "id": "bdb246c9",
   "metadata": {},
   "outputs": [
    {
     "data": {
      "text/html": [
       "<div>\n",
       "<style scoped>\n",
       "    .dataframe tbody tr th:only-of-type {\n",
       "        vertical-align: middle;\n",
       "    }\n",
       "\n",
       "    .dataframe tbody tr th {\n",
       "        vertical-align: top;\n",
       "    }\n",
       "\n",
       "    .dataframe thead th {\n",
       "        text-align: right;\n",
       "    }\n",
       "</style>\n",
       "<table border=\"1\" class=\"dataframe\">\n",
       "  <thead>\n",
       "    <tr style=\"text-align: right;\">\n",
       "      <th></th>\n",
       "      <th>STATION</th>\n",
       "      <th>DATE</th>\n",
       "      <th>REPORT_TYPE</th>\n",
       "      <th>SOURCE</th>\n",
       "      <th>BackupElements</th>\n",
       "      <th>BackupElevation</th>\n",
       "      <th>BackupEquipment</th>\n",
       "      <th>BackupLatitude</th>\n",
       "      <th>BackupLongitude</th>\n",
       "      <th>BackupName</th>\n",
       "      <th>...</th>\n",
       "      <th>HourlyDryBulbTemperature</th>\n",
       "      <th>HourlyPrecipitation</th>\n",
       "      <th>HourlyRelativeHumidity</th>\n",
       "      <th>HourlySeaLevelPressure</th>\n",
       "      <th>HourlyStationPressure</th>\n",
       "      <th>HourlyVisibility</th>\n",
       "      <th>HourlyWetBulbTemperature</th>\n",
       "      <th>HourlyWindDirection</th>\n",
       "      <th>HourlyWindSpeed</th>\n",
       "      <th>WindEquipmentChangeDate</th>\n",
       "    </tr>\n",
       "  </thead>\n",
       "  <tbody>\n",
       "    <tr>\n",
       "      <th>0</th>\n",
       "      <td>72518014735</td>\n",
       "      <td>2015-01-01T00:51:00</td>\n",
       "      <td>FM-15</td>\n",
       "      <td>7</td>\n",
       "      <td>PRECIP</td>\n",
       "      <td>260</td>\n",
       "      <td>PLASTIC</td>\n",
       "      <td>42.6918</td>\n",
       "      <td>-73.83109</td>\n",
       "      <td>NWS ALBANY, NY</td>\n",
       "      <td>...</td>\n",
       "      <td>22</td>\n",
       "      <td>0</td>\n",
       "      <td>46</td>\n",
       "      <td>30.05</td>\n",
       "      <td>29.72</td>\n",
       "      <td>10.0</td>\n",
       "      <td>18</td>\n",
       "      <td>150</td>\n",
       "      <td>10</td>\n",
       "      <td>9/8/2006</td>\n",
       "    </tr>\n",
       "    <tr>\n",
       "      <th>1</th>\n",
       "      <td>72518014735</td>\n",
       "      <td>2015-01-01T01:51:00</td>\n",
       "      <td>FM-15</td>\n",
       "      <td>7</td>\n",
       "      <td>PRECIP</td>\n",
       "      <td>260</td>\n",
       "      <td>PLASTIC</td>\n",
       "      <td>42.6918</td>\n",
       "      <td>-73.83109</td>\n",
       "      <td>NWS ALBANY, NY</td>\n",
       "      <td>...</td>\n",
       "      <td>22</td>\n",
       "      <td>0</td>\n",
       "      <td>48</td>\n",
       "      <td>30.04</td>\n",
       "      <td>29.71</td>\n",
       "      <td>10.0</td>\n",
       "      <td>18</td>\n",
       "      <td>170</td>\n",
       "      <td>8</td>\n",
       "      <td>9/8/2006</td>\n",
       "    </tr>\n",
       "    <tr>\n",
       "      <th>2</th>\n",
       "      <td>72518014735</td>\n",
       "      <td>2015-01-01T02:51:00</td>\n",
       "      <td>FM-15</td>\n",
       "      <td>7</td>\n",
       "      <td>PRECIP</td>\n",
       "      <td>260</td>\n",
       "      <td>PLASTIC</td>\n",
       "      <td>42.6918</td>\n",
       "      <td>-73.83109</td>\n",
       "      <td>NWS ALBANY, NY</td>\n",
       "      <td>...</td>\n",
       "      <td>20</td>\n",
       "      <td>0</td>\n",
       "      <td>52</td>\n",
       "      <td>30.03</td>\n",
       "      <td>29.7</td>\n",
       "      <td>10.0</td>\n",
       "      <td>16</td>\n",
       "      <td>180</td>\n",
       "      <td>6</td>\n",
       "      <td>9/8/2006</td>\n",
       "    </tr>\n",
       "    <tr>\n",
       "      <th>3</th>\n",
       "      <td>72518014735</td>\n",
       "      <td>2015-01-01T03:51:00</td>\n",
       "      <td>FM-15</td>\n",
       "      <td>7</td>\n",
       "      <td>PRECIP</td>\n",
       "      <td>260</td>\n",
       "      <td>PLASTIC</td>\n",
       "      <td>42.6918</td>\n",
       "      <td>-73.83109</td>\n",
       "      <td>NWS ALBANY, NY</td>\n",
       "      <td>...</td>\n",
       "      <td>19</td>\n",
       "      <td>0</td>\n",
       "      <td>57</td>\n",
       "      <td>30.03</td>\n",
       "      <td>29.7</td>\n",
       "      <td>10.0</td>\n",
       "      <td>16</td>\n",
       "      <td>190</td>\n",
       "      <td>7</td>\n",
       "      <td>9/8/2006</td>\n",
       "    </tr>\n",
       "    <tr>\n",
       "      <th>4</th>\n",
       "      <td>72518014735</td>\n",
       "      <td>2015-01-01T04:51:00</td>\n",
       "      <td>FM-15</td>\n",
       "      <td>7</td>\n",
       "      <td>PRECIP</td>\n",
       "      <td>260</td>\n",
       "      <td>PLASTIC</td>\n",
       "      <td>42.6918</td>\n",
       "      <td>-73.83109</td>\n",
       "      <td>NWS ALBANY, NY</td>\n",
       "      <td>...</td>\n",
       "      <td>21</td>\n",
       "      <td>0</td>\n",
       "      <td>52</td>\n",
       "      <td>30.04</td>\n",
       "      <td>29.71</td>\n",
       "      <td>10.0</td>\n",
       "      <td>17</td>\n",
       "      <td>170</td>\n",
       "      <td>8</td>\n",
       "      <td>9/8/2006</td>\n",
       "    </tr>\n",
       "  </tbody>\n",
       "</table>\n",
       "<p>5 rows × 22 columns</p>\n",
       "</div>"
      ],
      "text/plain": [
       "       STATION                 DATE REPORT_TYPE  SOURCE BackupElements  \\\n",
       "0  72518014735  2015-01-01T00:51:00       FM-15       7         PRECIP   \n",
       "1  72518014735  2015-01-01T01:51:00       FM-15       7         PRECIP   \n",
       "2  72518014735  2015-01-01T02:51:00       FM-15       7         PRECIP   \n",
       "3  72518014735  2015-01-01T03:51:00       FM-15       7         PRECIP   \n",
       "4  72518014735  2015-01-01T04:51:00       FM-15       7         PRECIP   \n",
       "\n",
       "   BackupElevation BackupEquipment  BackupLatitude  BackupLongitude  \\\n",
       "0              260         PLASTIC         42.6918        -73.83109   \n",
       "1              260         PLASTIC         42.6918        -73.83109   \n",
       "2              260         PLASTIC         42.6918        -73.83109   \n",
       "3              260         PLASTIC         42.6918        -73.83109   \n",
       "4              260         PLASTIC         42.6918        -73.83109   \n",
       "\n",
       "       BackupName  ... HourlyDryBulbTemperature HourlyPrecipitation  \\\n",
       "0  NWS ALBANY, NY  ...                       22                   0   \n",
       "1  NWS ALBANY, NY  ...                       22                   0   \n",
       "2  NWS ALBANY, NY  ...                       20                   0   \n",
       "3  NWS ALBANY, NY  ...                       19                   0   \n",
       "4  NWS ALBANY, NY  ...                       21                   0   \n",
       "\n",
       "  HourlyRelativeHumidity HourlySeaLevelPressure  HourlyStationPressure  \\\n",
       "0                     46                  30.05                  29.72   \n",
       "1                     48                  30.04                  29.71   \n",
       "2                     52                  30.03                   29.7   \n",
       "3                     57                  30.03                   29.7   \n",
       "4                     52                  30.04                  29.71   \n",
       "\n",
       "  HourlyVisibility HourlyWetBulbTemperature  HourlyWindDirection  \\\n",
       "0             10.0                       18                  150   \n",
       "1             10.0                       18                  170   \n",
       "2             10.0                       16                  180   \n",
       "3             10.0                       16                  190   \n",
       "4             10.0                       17                  170   \n",
       "\n",
       "   HourlyWindSpeed WindEquipmentChangeDate  \n",
       "0               10                9/8/2006  \n",
       "1                8                9/8/2006  \n",
       "2                6                9/8/2006  \n",
       "3                7                9/8/2006  \n",
       "4                8                9/8/2006  \n",
       "\n",
       "[5 rows x 22 columns]"
      ]
     },
     "execution_count": 9,
     "metadata": {},
     "output_type": "execute_result"
    }
   ],
   "source": [
    "df2.head()"
   ]
  },
  {
   "cell_type": "code",
   "execution_count": 10,
   "id": "58ff41cb",
   "metadata": {},
   "outputs": [
    {
     "data": {
      "text/html": [
       "<div>\n",
       "<style scoped>\n",
       "    .dataframe tbody tr th:only-of-type {\n",
       "        vertical-align: middle;\n",
       "    }\n",
       "\n",
       "    .dataframe tbody tr th {\n",
       "        vertical-align: top;\n",
       "    }\n",
       "\n",
       "    .dataframe thead th {\n",
       "        text-align: right;\n",
       "    }\n",
       "</style>\n",
       "<table border=\"1\" class=\"dataframe\">\n",
       "  <thead>\n",
       "    <tr style=\"text-align: right;\">\n",
       "      <th></th>\n",
       "      <th>STATION</th>\n",
       "      <th>DATE</th>\n",
       "      <th>REPORT_TYPE</th>\n",
       "      <th>SOURCE</th>\n",
       "      <th>AWND</th>\n",
       "      <th>BackupElements</th>\n",
       "      <th>BackupElevation</th>\n",
       "      <th>BackupEquipment</th>\n",
       "      <th>BackupLatitude</th>\n",
       "      <th>BackupLongitude</th>\n",
       "      <th>...</th>\n",
       "      <th>MonthlyMeanTemperature</th>\n",
       "      <th>MonthlyMinSeaLevelPressureValue</th>\n",
       "      <th>MonthlyMinSeaLevelPressureValueDate</th>\n",
       "      <th>MonthlyMinSeaLevelPressureValueTime</th>\n",
       "      <th>MonthlyMinimumTemperature</th>\n",
       "      <th>MonthlySeaLevelPressure</th>\n",
       "      <th>MonthlyStationPressure</th>\n",
       "      <th>MonthlyTotalLiquidPrecipitation</th>\n",
       "      <th>NormalsHeatingDegreeDay</th>\n",
       "      <th>WindEquipmentChangeDate</th>\n",
       "    </tr>\n",
       "  </thead>\n",
       "  <tbody>\n",
       "    <tr>\n",
       "      <th>0</th>\n",
       "      <td>72518014735</td>\n",
       "      <td>2015-01-31T23:59:00</td>\n",
       "      <td>SOM</td>\n",
       "      <td>6</td>\n",
       "      <td>8.9</td>\n",
       "      <td>PRECIP</td>\n",
       "      <td>260</td>\n",
       "      <td>PLASTIC</td>\n",
       "      <td>42.6918</td>\n",
       "      <td>-73.83109</td>\n",
       "      <td>...</td>\n",
       "      <td>19.7</td>\n",
       "      <td>29.32</td>\n",
       "      <td>24.0</td>\n",
       "      <td>1707.0</td>\n",
       "      <td>10.5</td>\n",
       "      <td>30.11</td>\n",
       "      <td>29.77</td>\n",
       "      <td>2.17</td>\n",
       "      <td>1316.0</td>\n",
       "      <td>2006-09-08</td>\n",
       "    </tr>\n",
       "    <tr>\n",
       "      <th>1</th>\n",
       "      <td>72518014735</td>\n",
       "      <td>2015-02-28T23:59:00</td>\n",
       "      <td>SOM</td>\n",
       "      <td>6</td>\n",
       "      <td>8.7</td>\n",
       "      <td>PRECIP</td>\n",
       "      <td>260</td>\n",
       "      <td>PLASTIC</td>\n",
       "      <td>42.6918</td>\n",
       "      <td>-73.83109</td>\n",
       "      <td>...</td>\n",
       "      <td>12.7</td>\n",
       "      <td>29.56</td>\n",
       "      <td>15.0</td>\n",
       "      <td>151.0</td>\n",
       "      <td>2.4</td>\n",
       "      <td>30.09</td>\n",
       "      <td>29.75</td>\n",
       "      <td>2.15</td>\n",
       "      <td>1093.0</td>\n",
       "      <td>2006-09-08</td>\n",
       "    </tr>\n",
       "    <tr>\n",
       "      <th>2</th>\n",
       "      <td>72518014735</td>\n",
       "      <td>2015-03-31T23:59:00</td>\n",
       "      <td>SOM</td>\n",
       "      <td>6</td>\n",
       "      <td>9.4</td>\n",
       "      <td>PRECIP</td>\n",
       "      <td>260</td>\n",
       "      <td>PLASTIC</td>\n",
       "      <td>42.6918</td>\n",
       "      <td>-73.83109</td>\n",
       "      <td>...</td>\n",
       "      <td>29.8</td>\n",
       "      <td>29.56</td>\n",
       "      <td>17.0</td>\n",
       "      <td>1251.0</td>\n",
       "      <td>20.7</td>\n",
       "      <td>30.10</td>\n",
       "      <td>29.76</td>\n",
       "      <td>1.25</td>\n",
       "      <td>929.0</td>\n",
       "      <td>2006-09-08</td>\n",
       "    </tr>\n",
       "    <tr>\n",
       "      <th>3</th>\n",
       "      <td>72518014735</td>\n",
       "      <td>2015-04-30T23:59:00</td>\n",
       "      <td>SOM</td>\n",
       "      <td>6</td>\n",
       "      <td>9.4</td>\n",
       "      <td>PRECIP</td>\n",
       "      <td>260</td>\n",
       "      <td>PLASTIC</td>\n",
       "      <td>42.6918</td>\n",
       "      <td>-73.83109</td>\n",
       "      <td>...</td>\n",
       "      <td>47.8</td>\n",
       "      <td>29.54</td>\n",
       "      <td>21.0</td>\n",
       "      <td>451.0</td>\n",
       "      <td>36.9</td>\n",
       "      <td>29.98</td>\n",
       "      <td>29.66</td>\n",
       "      <td>2.10</td>\n",
       "      <td>520.0</td>\n",
       "      <td>2006-09-08</td>\n",
       "    </tr>\n",
       "    <tr>\n",
       "      <th>4</th>\n",
       "      <td>72518014735</td>\n",
       "      <td>2015-05-31T23:59:00</td>\n",
       "      <td>SOM</td>\n",
       "      <td>6</td>\n",
       "      <td>8.3</td>\n",
       "      <td>PRECIP</td>\n",
       "      <td>260</td>\n",
       "      <td>PLASTIC</td>\n",
       "      <td>42.6918</td>\n",
       "      <td>-73.83109</td>\n",
       "      <td>...</td>\n",
       "      <td>65.6</td>\n",
       "      <td>29.71</td>\n",
       "      <td>12.0</td>\n",
       "      <td>1251.0</td>\n",
       "      <td>52.8</td>\n",
       "      <td>30.09</td>\n",
       "      <td>29.77</td>\n",
       "      <td>1.05</td>\n",
       "      <td>235.0</td>\n",
       "      <td>2006-09-08</td>\n",
       "    </tr>\n",
       "  </tbody>\n",
       "</table>\n",
       "<p>5 rows × 46 columns</p>\n",
       "</div>"
      ],
      "text/plain": [
       "       STATION                 DATE REPORT_TYPE  SOURCE  AWND BackupElements  \\\n",
       "0  72518014735  2015-01-31T23:59:00       SOM         6   8.9         PRECIP   \n",
       "1  72518014735  2015-02-28T23:59:00       SOM         6   8.7         PRECIP   \n",
       "2  72518014735  2015-03-31T23:59:00       SOM         6   9.4         PRECIP   \n",
       "3  72518014735  2015-04-30T23:59:00       SOM         6   9.4         PRECIP   \n",
       "4  72518014735  2015-05-31T23:59:00       SOM         6   8.3         PRECIP   \n",
       "\n",
       "   BackupElevation BackupEquipment  BackupLatitude  BackupLongitude  ...  \\\n",
       "0              260         PLASTIC         42.6918        -73.83109  ...   \n",
       "1              260         PLASTIC         42.6918        -73.83109  ...   \n",
       "2              260         PLASTIC         42.6918        -73.83109  ...   \n",
       "3              260         PLASTIC         42.6918        -73.83109  ...   \n",
       "4              260         PLASTIC         42.6918        -73.83109  ...   \n",
       "\n",
       "  MonthlyMeanTemperature  MonthlyMinSeaLevelPressureValue  \\\n",
       "0                   19.7                            29.32   \n",
       "1                   12.7                            29.56   \n",
       "2                   29.8                            29.56   \n",
       "3                   47.8                            29.54   \n",
       "4                   65.6                            29.71   \n",
       "\n",
       "   MonthlyMinSeaLevelPressureValueDate  MonthlyMinSeaLevelPressureValueTime  \\\n",
       "0                                 24.0                               1707.0   \n",
       "1                                 15.0                                151.0   \n",
       "2                                 17.0                               1251.0   \n",
       "3                                 21.0                                451.0   \n",
       "4                                 12.0                               1251.0   \n",
       "\n",
       "   MonthlyMinimumTemperature  MonthlySeaLevelPressure  MonthlyStationPressure  \\\n",
       "0                       10.5                    30.11                   29.77   \n",
       "1                        2.4                    30.09                   29.75   \n",
       "2                       20.7                    30.10                   29.76   \n",
       "3                       36.9                    29.98                   29.66   \n",
       "4                       52.8                    30.09                   29.77   \n",
       "\n",
       "   MonthlyTotalLiquidPrecipitation  NormalsHeatingDegreeDay  \\\n",
       "0                             2.17                   1316.0   \n",
       "1                             2.15                   1093.0   \n",
       "2                             1.25                    929.0   \n",
       "3                             2.10                    520.0   \n",
       "4                             1.05                    235.0   \n",
       "\n",
       "   WindEquipmentChangeDate  \n",
       "0               2006-09-08  \n",
       "1               2006-09-08  \n",
       "2               2006-09-08  \n",
       "3               2006-09-08  \n",
       "4               2006-09-08  \n",
       "\n",
       "[5 rows x 46 columns]"
      ]
     },
     "execution_count": 10,
     "metadata": {},
     "output_type": "execute_result"
    }
   ],
   "source": [
    "df3.head()\n"
   ]
  },
  {
   "cell_type": "code",
   "execution_count": 12,
   "id": "1af3eed8",
   "metadata": {},
   "outputs": [
    {
     "data": {
      "text/plain": [
       "Index(['STATION', 'DATE', 'REPORT_TYPE', 'SOURCE', 'BackupElements',\n",
       "       'BackupElevation', 'BackupEquipment', 'BackupLatitude',\n",
       "       'BackupLongitude', 'BackupName', 'DailyAverageDewPointTemperature',\n",
       "       'DailyAverageDryBulbTemperature', 'DailyAverageRelativeHumidity',\n",
       "       'DailyAverageSeaLevelPressure', 'DailyAverageStationPressure',\n",
       "       'DailyAverageWetBulbTemperature', 'DailyAverageWindSpeed',\n",
       "       'DailyCoolingDegreeDays', 'DailyDepartureFromNormalAverageTemperature',\n",
       "       'DailyHeatingDegreeDays', 'DailyMaximumDryBulbTemperature',\n",
       "       'DailyMinimumDryBulbTemperature', 'DailyPeakWindDirection',\n",
       "       'DailyPeakWindSpeed', 'DailyPrecipitation', 'DailySnowDepth',\n",
       "       'DailySnowfall', 'DailySustainedWindDirection',\n",
       "       'DailySustainedWindSpeed', 'Sunrise', 'Sunset',\n",
       "       'WindEquipmentChangeDate'],\n",
       "      dtype='object')"
      ]
     },
     "execution_count": 12,
     "metadata": {},
     "output_type": "execute_result"
    }
   ],
   "source": [
    "df1.columns"
   ]
  },
  {
   "cell_type": "code",
   "execution_count": 13,
   "id": "ac87c1ba",
   "metadata": {},
   "outputs": [
    {
     "data": {
      "text/plain": [
       "Index(['STATION', 'DATE', 'REPORT_TYPE', 'SOURCE', 'BackupElements',\n",
       "       'BackupElevation', 'BackupEquipment', 'BackupLatitude',\n",
       "       'BackupLongitude', 'BackupName', 'HourlyAltimeterSetting',\n",
       "       'HourlyDewPointTemperature', 'HourlyDryBulbTemperature',\n",
       "       'HourlyPrecipitation', 'HourlyRelativeHumidity',\n",
       "       'HourlySeaLevelPressure', 'HourlyStationPressure', 'HourlyVisibility',\n",
       "       'HourlyWetBulbTemperature', 'HourlyWindDirection', 'HourlyWindSpeed',\n",
       "       'WindEquipmentChangeDate'],\n",
       "      dtype='object')"
      ]
     },
     "execution_count": 13,
     "metadata": {},
     "output_type": "execute_result"
    }
   ],
   "source": [
    "df2.columns"
   ]
  },
  {
   "cell_type": "code",
   "execution_count": 14,
   "id": "139cf568",
   "metadata": {},
   "outputs": [
    {
     "data": {
      "text/plain": [
       "Index(['STATION', 'DATE', 'REPORT_TYPE', 'SOURCE', 'AWND', 'BackupElements',\n",
       "       'BackupElevation', 'BackupEquipment', 'BackupLatitude',\n",
       "       'BackupLongitude', 'BackupName', 'CDSD', 'CLDD', 'DSNW', 'HDSD', 'HTDD',\n",
       "       'MonthlyDaysWithGT001Precip', 'MonthlyDaysWithGT010Precip',\n",
       "       'MonthlyDaysWithGT32Temp', 'MonthlyDaysWithGT90Temp',\n",
       "       'MonthlyDaysWithLT0Temp', 'MonthlyDaysWithLT32Temp',\n",
       "       'MonthlyDepartureFromNormalAverageTemperature',\n",
       "       'MonthlyDepartureFromNormalCoolingDegreeDays',\n",
       "       'MonthlyDepartureFromNormalHeatingDegreeDays',\n",
       "       'MonthlyDepartureFromNormalMaximumTemperature',\n",
       "       'MonthlyDepartureFromNormalMinimumTemperature',\n",
       "       'MonthlyDepartureFromNormalPrecipitation', 'MonthlyGreatestPrecip',\n",
       "       'MonthlyGreatestPrecipDate', 'MonthlyGreatestSnowDepth',\n",
       "       'MonthlyGreatestSnowfall', 'MonthlyMaxSeaLevelPressureValue',\n",
       "       'MonthlyMaxSeaLevelPressureValueDate',\n",
       "       'MonthlyMaxSeaLevelPressureValueTime', 'MonthlyMaximumTemperature',\n",
       "       'MonthlyMeanTemperature', 'MonthlyMinSeaLevelPressureValue',\n",
       "       'MonthlyMinSeaLevelPressureValueDate',\n",
       "       'MonthlyMinSeaLevelPressureValueTime', 'MonthlyMinimumTemperature',\n",
       "       'MonthlySeaLevelPressure', 'MonthlyStationPressure',\n",
       "       'MonthlyTotalLiquidPrecipitation', 'NormalsHeatingDegreeDay',\n",
       "       'WindEquipmentChangeDate'],\n",
       "      dtype='object')"
      ]
     },
     "execution_count": 14,
     "metadata": {},
     "output_type": "execute_result"
    }
   ],
   "source": [
    "df3.columns"
   ]
  },
  {
   "cell_type": "code",
   "execution_count": 16,
   "id": "0c88c189",
   "metadata": {},
   "outputs": [],
   "source": [
    "df1.dropna(inplace=True)"
   ]
  },
  {
   "cell_type": "code",
   "execution_count": 17,
   "id": "b386c37e",
   "metadata": {},
   "outputs": [],
   "source": [
    "df2.dropna(inplace=True)"
   ]
  },
  {
   "cell_type": "code",
   "execution_count": 18,
   "id": "045e9b6c",
   "metadata": {},
   "outputs": [],
   "source": [
    "df3.dropna(inplace=True)"
   ]
  },
  {
   "cell_type": "code",
   "execution_count": 39,
   "id": "a5ccf584",
   "metadata": {},
   "outputs": [],
   "source": [
    "df3['DATE'] = pd.to_datetime(df3['DATE'])"
   ]
  },
  {
   "cell_type": "code",
   "execution_count": 22,
   "id": "1deb9881",
   "metadata": {},
   "outputs": [
    {
     "data": {
      "text/plain": [
       "0    25.0\n",
       "1    32.0\n",
       "2    27.0\n",
       "3    39.0\n",
       "4    27.0\n",
       "Name: DailyAverageDryBulbTemperature, dtype: float64"
      ]
     },
     "execution_count": 22,
     "metadata": {},
     "output_type": "execute_result"
    }
   ],
   "source": [
    "df1['DailyAverageDryBulbTemperature'].head()"
   ]
  },
  {
   "cell_type": "code",
   "execution_count": 30,
   "id": "a11a8ea6",
   "metadata": {},
   "outputs": [
    {
     "name": "stdout",
     "output_type": "stream",
     "text": [
      "50.107571214392806\n"
     ]
    }
   ],
   "source": [
    "mean_temp = df1['DailyAverageDryBulbTemperature'].mean()\n",
    "print(mean_temp)"
   ]
  },
  {
   "cell_type": "code",
   "execution_count": 33,
   "id": "5e4d557c",
   "metadata": {},
   "outputs": [
    {
     "data": {
      "text/plain": [
       "0    19.7\n",
       "1    12.7\n",
       "2    29.8\n",
       "3    47.8\n",
       "4    65.6\n",
       "Name: MonthlyMeanTemperature, dtype: float64"
      ]
     },
     "execution_count": 33,
     "metadata": {},
     "output_type": "execute_result"
    }
   ],
   "source": [
    "df3['MonthlyMeanTemperature'].head()"
   ]
  },
  {
   "cell_type": "code",
   "execution_count": 35,
   "id": "f2efd319",
   "metadata": {},
   "outputs": [
    {
     "data": {
      "text/html": [
       "<div>\n",
       "<style scoped>\n",
       "    .dataframe tbody tr th:only-of-type {\n",
       "        vertical-align: middle;\n",
       "    }\n",
       "\n",
       "    .dataframe tbody tr th {\n",
       "        vertical-align: top;\n",
       "    }\n",
       "\n",
       "    .dataframe thead th {\n",
       "        text-align: right;\n",
       "    }\n",
       "</style>\n",
       "<table border=\"1\" class=\"dataframe\">\n",
       "  <thead>\n",
       "    <tr style=\"text-align: right;\">\n",
       "      <th></th>\n",
       "      <th>MonthlyMeanTemperature</th>\n",
       "      <th>MonthlyMaximumTemperature</th>\n",
       "      <th>MonthlyMinimumTemperature</th>\n",
       "    </tr>\n",
       "  </thead>\n",
       "  <tbody>\n",
       "    <tr>\n",
       "      <th>0</th>\n",
       "      <td>19.7</td>\n",
       "      <td>28.9</td>\n",
       "      <td>10.5</td>\n",
       "    </tr>\n",
       "    <tr>\n",
       "      <th>1</th>\n",
       "      <td>12.7</td>\n",
       "      <td>23.0</td>\n",
       "      <td>2.4</td>\n",
       "    </tr>\n",
       "    <tr>\n",
       "      <th>2</th>\n",
       "      <td>29.8</td>\n",
       "      <td>39.0</td>\n",
       "      <td>20.7</td>\n",
       "    </tr>\n",
       "    <tr>\n",
       "      <th>3</th>\n",
       "      <td>47.8</td>\n",
       "      <td>58.7</td>\n",
       "      <td>36.9</td>\n",
       "    </tr>\n",
       "    <tr>\n",
       "      <th>4</th>\n",
       "      <td>65.6</td>\n",
       "      <td>78.4</td>\n",
       "      <td>52.8</td>\n",
       "    </tr>\n",
       "  </tbody>\n",
       "</table>\n",
       "</div>"
      ],
      "text/plain": [
       "   MonthlyMeanTemperature  MonthlyMaximumTemperature  \\\n",
       "0                    19.7                       28.9   \n",
       "1                    12.7                       23.0   \n",
       "2                    29.8                       39.0   \n",
       "3                    47.8                       58.7   \n",
       "4                    65.6                       78.4   \n",
       "\n",
       "   MonthlyMinimumTemperature  \n",
       "0                       10.5  \n",
       "1                        2.4  \n",
       "2                       20.7  \n",
       "3                       36.9  \n",
       "4                       52.8  "
      ]
     },
     "execution_count": 35,
     "metadata": {},
     "output_type": "execute_result"
    }
   ],
   "source": [
    "df3[['MonthlyMeanTemperature', 'MonthlyMaximumTemperature', 'MonthlyMinimumTemperature']].head()"
   ]
  },
  {
   "cell_type": "code",
   "execution_count": 42,
   "id": "0775dcdf",
   "metadata": {},
   "outputs": [
    {
     "name": "stdout",
     "output_type": "stream",
     "text": [
      "    MonthlyMeanTemperature  MonthlyMaximumTemperature  \\\n",
      "12                    27.7                       36.0   \n",
      "13                    30.6                       40.6   \n",
      "14                    42.7                       52.9   \n",
      "15                    46.0                       57.2   \n",
      "16                    59.5                       70.2   \n",
      "\n",
      "    MonthlyMinimumTemperature  \n",
      "12                       19.5  \n",
      "13                       20.6  \n",
      "14                       32.5  \n",
      "15                       34.7  \n",
      "16                       48.7  \n"
     ]
    }
   ],
   "source": [
    "df3_2016 = df3[df3['DATE'].dt.year == 2016][['MonthlyMeanTemperature', 'MonthlyMaximumTemperature', 'MonthlyMinimumTemperature']]\n",
    "\n",
    "\n",
    "print(df3_2016.head())"
   ]
  },
  {
   "cell_type": "code",
   "execution_count": 11,
   "id": "5e83429d",
   "metadata": {},
   "outputs": [
    {
     "data": {
      "text/plain": [
       "0     19.7\n",
       "1     12.7\n",
       "2     29.8\n",
       "3     47.8\n",
       "4     65.6\n",
       "5     66.8\n",
       "6     73.0\n",
       "7     73.1\n",
       "8     68.6\n",
       "9     49.8\n",
       "10    45.5\n",
       "11    41.8\n",
       "12    27.7\n",
       "13    30.6\n",
       "14    42.7\n",
       "15    46.0\n",
       "16    59.5\n",
       "17    68.2\n",
       "18    74.0\n",
       "19    73.9\n",
       "Name: MonthlyMeanTemperature, dtype: float64"
      ]
     },
     "execution_count": 11,
     "metadata": {},
     "output_type": "execute_result"
    }
   ],
   "source": [
    "df3[\"MonthlyMeanTemperature\"].head(20)\n"
   ]
  },
  {
   "cell_type": "code",
   "execution_count": 13,
   "id": "b7c6fddf",
   "metadata": {},
   "outputs": [
    {
     "name": "stdout",
     "output_type": "stream",
     "text": [
      "Mean temperature throughout the year 2015: 49\n"
     ]
    }
   ],
   "source": [
    "df3['DATE'] = pd.to_datetime(df3['DATE'])\n",
    "df_2015 = df3[df3['DATE'].dt.year == 2015]\n",
    "mean_temp_2015 = df_2015['MonthlyMeanTemperature'].mean()\n",
    "mean_temp_2015 = int(mean_temp_2015)\n",
    "print(\"Mean temperature throughout the year 2015:\", mean_temp_2015)"
   ]
  },
  {
   "cell_type": "code",
   "execution_count": 16,
   "id": "3508d9b9",
   "metadata": {},
   "outputs": [
    {
     "name": "stdout",
     "output_type": "stream",
     "text": [
      "Mean temperature throughout the year 2016: 51\n"
     ]
    }
   ],
   "source": [
    "df_2016 = df3[df3['DATE'].dt.year == 2016]\n",
    "mean_temp_2016 = df_2016['MonthlyMeanTemperature'].mean()\n",
    "mean_temp_2016 = int(mean_temp_2016)\n",
    "print(\"Mean temperature throughout the year 2016:\", mean_temp_2016)"
   ]
  },
  {
   "cell_type": "code",
   "execution_count": 18,
   "id": "3e77d147",
   "metadata": {},
   "outputs": [
    {
     "name": "stdout",
     "output_type": "stream",
     "text": [
      "Mean temperature throughout the year 2017: 50\n"
     ]
    }
   ],
   "source": [
    "df_2017 = df3[df3['DATE'].dt.year == 2017]\n",
    "mean_temp_2017 = df_2017['MonthlyMeanTemperature'].mean()\n",
    "mean_temp_2017 = int(mean_temp_2017)\n",
    "print(\"Mean temperature throughout the year 2017:\", mean_temp_2017)\n",
    "\n"
   ]
  },
  {
   "cell_type": "code",
   "execution_count": 19,
   "id": "4111fead",
   "metadata": {},
   "outputs": [
    {
     "name": "stdout",
     "output_type": "stream",
     "text": [
      "Mean temperature throughout the year 2018: 50\n"
     ]
    }
   ],
   "source": [
    "\n",
    "df_2018 = df3[df3['DATE'].dt.year == 2018]\n",
    "mean_temp_2018 = df_2018['MonthlyMeanTemperature'].mean()\n",
    "mean_temp_2018 = int(mean_temp_2018)\n",
    "print(\"Mean temperature throughout the year 2018:\", mean_temp_2018)\n"
   ]
  },
  {
   "cell_type": "code",
   "execution_count": 20,
   "id": "79c369d9",
   "metadata": {},
   "outputs": [
    {
     "name": "stdout",
     "output_type": "stream",
     "text": [
      "Mean temperature throughout the year 2019: 48\n"
     ]
    }
   ],
   "source": [
    "\n",
    "df_2019 = df3[df3['DATE'].dt.year == 2019]\n",
    "mean_temp_2019 = df_2019['MonthlyMeanTemperature'].mean()\n",
    "mean_temp_2019 = int(mean_temp_2019)\n",
    "print(\"Mean temperature throughout the year 2019:\", mean_temp_2019)\n"
   ]
  },
  {
   "cell_type": "code",
   "execution_count": 21,
   "id": "72eecb4f",
   "metadata": {},
   "outputs": [
    {
     "name": "stdout",
     "output_type": "stream",
     "text": [
      "Mean temperature throughout the year 2020: 50\n"
     ]
    }
   ],
   "source": [
    "\n",
    "df_2020 = df3[df3['DATE'].dt.year == 2020]\n",
    "mean_temp_2020 = df_2020['MonthlyMeanTemperature'].mean()\n",
    "mean_temp_2020 = int(mean_temp_2020)\n",
    "print(\"Mean temperature throughout the year 2020:\", mean_temp_2020)\n"
   ]
  },
  {
   "cell_type": "code",
   "execution_count": 22,
   "id": "39668d35",
   "metadata": {},
   "outputs": [
    {
     "name": "stdout",
     "output_type": "stream",
     "text": [
      "Mean temperature throughout the year 2021: 48\n"
     ]
    }
   ],
   "source": [
    "\n",
    "df_2021 = df3[df3['DATE'].dt.year == 2021]\n",
    "mean_temp_2021 = df_2021['MonthlyMeanTemperature'].mean()\n",
    "mean_temp_2021 = int(mean_temp_2021)\n",
    "print(\"Mean temperature throughout the year 2021:\", mean_temp_2021)\n"
   ]
  },
  {
   "cell_type": "code",
   "execution_count": 23,
   "id": "0371fe48",
   "metadata": {},
   "outputs": [
    {
     "name": "stdout",
     "output_type": "stream",
     "text": [
      "Mean temperature throughout the year 2022: 39\n"
     ]
    }
   ],
   "source": [
    "\n",
    "df_2022 = df3[df3['DATE'].dt.year == 2022]\n",
    "mean_temp_2022 = df_2022['MonthlyMeanTemperature'].mean()\n",
    "mean_temp_2022 = int(mean_temp_2022)\n",
    "print(\"Mean temperature throughout the year 2022:\", mean_temp_2022)\n"
   ]
  },
  {
   "cell_type": "code",
   "execution_count": 24,
   "id": "4faa4e7e",
   "metadata": {},
   "outputs": [
    {
     "data": {
      "image/png": "[encoded data removed]",
      "text/plain": [
       "<Figure size 1000x600 with 1 Axes>"
      ]
     },
     "metadata": {},
     "output_type": "display_data"
    }
   ],
   "source": [
    "mean_temperatures = [mean_temp_2015, mean_temp_2016, mean_temp_2017, mean_temp_2018, mean_temp_2019, mean_temp_2020, mean_temp_2021, mean_temp_2022]\n",
    "years = [2015, 2016, 2017, 2018, 2019, 2020, 2021, 2022]\n",
    "\n",
    "\n",
    "plt.figure(figsize=(10, 6))\n",
    "plt.plot(years, mean_temperatures, marker='o', linestyle='-')\n",
    "plt.title('Mean Temperature Over the Years')\n",
    "plt.xlabel('Year')\n",
    "plt.ylabel('Mean Temperature')\n",
    "plt.grid(True)\n",
    "plt.xticks(years)  # Set x-axis ticks to be the years\n",
    "plt.tight_layout()\n",
    "plt.show()"
   ]
  },
  {
   "cell_type": "code",
   "execution_count": 25,
   "id": "918b6e6c",
   "metadata": {},
   "outputs": [
    {
     "data": {
      "image/png": "[encoded data removed]",
      "text/plain": [
       "<Figure size 1000x600 with 1 Axes>"
      ]
     },
     "metadata": {},
     "output_type": "display_data"
    }
   ],
   "source": [
    "mean_temperatures = [mean_temp_2015, mean_temp_2016, mean_temp_2017, mean_temp_2018, mean_temp_2019, mean_temp_2020, mean_temp_2021, mean_temp_2022]\n",
    "years = [2015, 2016, 2017, 2018, 2019, 2020, 2021, 2022]\n",
    "\n",
    "# Plotting bar plot\n",
    "plt.figure(figsize=(10, 6))\n",
    "plt.bar(years, mean_temperatures, color='skyblue')\n",
    "plt.title('Mean Temperature Over the Years')\n",
    "plt.xlabel('Year')\n",
    "plt.ylabel('Mean Temperature')\n",
    "plt.grid(axis='y')\n",
    "plt.xticks(years)\n",
    "plt.show()"
   ]
  },
  {
   "cell_type": "code",
   "execution_count": null,
   "id": "eafff364",
   "metadata": {},
   "outputs": [],
   "source": []
  }
 ],
 "metadata": {
  "kernelspec": {
   "display_name": "Python 3 (ipykernel)",
   "language": "python",
   "name": "python3"
  },
  "language_info": {
   "codemirror_mode": {
    "name": "ipython",
    "version": 3
   },
   "file_extension": ".py",
   "mimetype": "text/x-python",
   "name": "python",
   "nbconvert_exporter": "python",
   "pygments_lexer": "ipython3",
   "version": "3.11.3"
  }
 },
 "nbformat": 4,
 "nbformat_minor": 5
}
